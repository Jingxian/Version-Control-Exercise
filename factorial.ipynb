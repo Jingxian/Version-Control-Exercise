{
 "cells": [
  {
   "cell_type": "code",
   "execution_count": null,
   "metadata": {},
   "outputs": [],
   "source": [
    "# Function to calculate the factorial of a number\n",
    "def factorial(n):\n",
    "    result = 1\n",
    "    for i in range(1, n+1):\n",
    "        result *= i\n",
    "    return result\n",
    "\n",
    "# Main program loop\n",
    "while True:\n",
    "    # Prompt the user for a number\n",
    "    num = input(\"Enter a number: \")\n",
    "    # Check if the input is valid\n",
    "    if not num.isdigit():\n",
    "        print(\"Invalid input! Please enter a positive integer.\")\n",
    "    \n",
    "    continue\n",
    "    # Convert the input to an integer\n",
    "    num = int(num)\n",
    "    # Calculate the factorial\n",
    "    fact = factorial(num)\n",
    "    # Print the result\n",
    "    print(f\"{num}! = {fact}\")\n",
    "    # Ask the user if they want to calculate another factorial\n",
    "    again = input(\"Calculate another factorial? (y/n) \")\n",
    "    if again.lower() != \"y\":\n",
    "        break"
   ]
  }
 ],
 "metadata": {
  "kernelspec": {
   "display_name": "Python 3",
   "language": "python",
   "name": "python3"
  },
  "language_info": {
   "codemirror_mode": {
    "name": "ipython",
    "version": 3
   },
   "file_extension": ".py",
   "mimetype": "text/x-python",
   "name": "python",
   "nbconvert_exporter": "python",
   "pygments_lexer": "ipython3",
   "version": "3.8.3"
  }
 },
 "nbformat": 4,
 "nbformat_minor": 4
}
