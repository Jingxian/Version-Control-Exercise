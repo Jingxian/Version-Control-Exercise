{
 "cells": [
  {
   "cell_type": "code",
   "execution_count": 1,
   "metadata": {},
   "outputs": [
    {
     "name": "stdin",
     "output_type": "stream",
     "text": [
      "Enter a number:  5\n"
     ]
    },
    {
     "name": "stdout",
     "output_type": "stream",
     "text": [
      "5! = 120\n"
     ]
    },
    {
     "name": "stdin",
     "output_type": "stream",
     "text": [
      "Calculate another factorial? (yes/no)  yes\n",
      "Enter a number:  8\n"
     ]
    },
    {
     "name": "stdout",
     "output_type": "stream",
     "text": [
      "8! = 40320\n"
     ]
    },
    {
     "name": "stdin",
     "output_type": "stream",
     "text": [
      "Calculate another factorial? (yes/no)  no\n"
     ]
    }
   ],
   "source": [
    "# Function to calculate the factorial of a number\n",
    "def factorial(n):\n",
    "    value = 1\n",
    "    for i in range (1, n+1):\n",
    "        value *= i\n",
    "    return value\n",
    "\n",
    "while True:\n",
    "    # Prompt the user for a number\n",
    "    num = input (\"Enter a number: \")    # Check if the input is valid\n",
    "    if not num.isdigit():\n",
    "        print (\"Invalid input! Please enter a positive integer.\")\n",
    "        continue\n",
    "    \n",
    "    num = int(num)\n",
    "    fact = factorial(num)    # Calculate and output the factorial\n",
    "    print ( f\"{num}! = {fact}\" )\n",
    "    \n",
    "    # Ask the user if they want to calculate another factorial\n",
    "    another = input (\"Calculate another factorial? (yes/no) \")\n",
    "    if another.lower() != \"yes\":\n",
    "        break\n",
    "        "
   ]
  },
  {
   "cell_type": "code",
   "execution_count": null,
   "metadata": {},
   "outputs": [],
   "source": []
  }
 ],
 "metadata": {
  "kernelspec": {
   "display_name": "Python 3",
   "language": "python",
   "name": "python3"
  },
  "language_info": {
   "codemirror_mode": {
    "name": "ipython",
    "version": 3
   },
   "file_extension": ".py",
   "mimetype": "text/x-python",
   "name": "python",
   "nbconvert_exporter": "python",
   "pygments_lexer": "ipython3",
   "version": "3.8.3"
  }
 },
 "nbformat": 4,
 "nbformat_minor": 4
}
